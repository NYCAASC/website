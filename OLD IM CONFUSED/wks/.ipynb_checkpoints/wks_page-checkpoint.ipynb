{
 "cells": [
  {
   "cell_type": "code",
   "execution_count": 1,
   "metadata": {
    "collapsed": true
   },
   "outputs": [],
   "source": [
    "list_of_workshops = pd.read_csv(\"\")"
   ]
  },
  {
   "cell_type": "code",
   "execution_count": 2,
   "metadata": {
    "collapsed": true
   },
   "outputs": [],
   "source": [
    "wks_title = list_of_workshop['title']"
   ]
  },
  {
   "cell_type": "code",
   "execution_count": 3,
   "metadata": {
    "collapsed": true
   },
   "outputs": [],
   "source": [
    "num_people = list_of_workshops[\"presentors\"]"
   ]
  },
  {
   "cell_type": "code",
   "execution_count": 4,
   "metadata": {
    "collapsed": true
   },
   "outputs": [],
   "source": []
  },
  {
   "cell_type": "code",
   "execution_count": 5,
   "metadata": {
    "collapsed": true
   },
   "outputs": [],
   "source": []
  },
  {
   "cell_type": "code",
   "execution_count": 6,
   "metadata": {
    "collapsed": true
   },
   "outputs": [],
   "source": [
    "def jumbo_wks(background_img, track_title)\n",
    "background_img = '/assets/img/network.svg'\n",
    "track_title='Track 3: Beyond'\n",
    "\n",
    "wks_jumbotron = \"\"\"\n",
    "    <div class=\"container\">\n",
    "        <div class=\"jumbotron\" style=\"background-image:url({background_img});background-position:right bottom;background-repeat: no-repeat;\">\n",
    "            <h1>Workshops</h1>\n",
    "            <p>{track_title}</p>\n",
    "        </div>\n",
    "    </div>\n",
    "    \"\"\".format(track_title=track_title,background_img=background_img )"
   ]
  },
  {
   "cell_type": "code",
   "execution_count": 7,
   "metadata": {
    "collapsed": true
   },
   "outputs": [],
   "source": [
    "bio_id = '304_ajovellanos'\n",
    "def presentor_block(presentor_name,short_50, bio_id, year):\n",
    "  return \"\"\"\n",
    "          <div class=\"col-sm-6 col-md-4\">\n",
    "            <div class=\"thumbnail\">\n",
    "                <img src=\"/assets/img/wks/{bio_id}.jpg\" height=\"200\" width=\"319\" alt=\"{presentor_name}\">\n",
    "                <div class=\"caption\">\n",
    "                  <h3>{presentor_name}</h3>\n",
    "                  <p>{short_50}</p>\n",
    "                  <p><a href=\"/wks/{year}/bios/{bio_id}.html\" class=\"btn btn-primary\" role=\"button\">Read Full Bio</a></p>\n",
    "                </div>\n",
    "            </div>\n",
    "          </div>\n",
    "\"\"\".format(presentor_name=presentor_name, short_50 = short_50, bio_id = bio_id, year=year)"
   ]
  },
  {
   "cell_type": "code",
   "execution_count": 8,
   "metadata": {
    "collapsed": true
   },
   "outputs": [],
   "source": [
    "def presentor_section(num_presentor, presentor_block):\n",
    "  presentor_chunk = \"\"\"<div class=\"row\">\"\"\"\n",
    "  for presentor in range(num_presentor):\n",
    "    if ((presentor % 3) == 0) & presentor !=0:\n",
    "      presentor_chunk += \"\"\"</div> \\n <div class=\"row\">\"\"\"\n",
    "      \n",
    "      presentor_chunk += str(presentor_block[presentor]) #future present_block(function)\n",
    "      \n",
    "    else: \n",
    "      presentor_chunk += presentor_block[presentor]\n",
    "  presentor_chunk += \"\"\"</div>\"\"\"\n",
    "  return presentor_chunk\n",
    "#add end div\n",
    "#def for taking first lower(initial), and lower(lastname) to construct different directores\n",
    "#def for creating short bio"
   ]
  },
  {
   "cell_type": "code",
   "execution_count": 9,
   "metadata": {
    "collapsed": true
   },
   "outputs": [],
   "source": [
    "#presentor_block = ['A', 'B', 'C', 'D', 'E']\n",
    "#presentor_block = ['A', 'B', 'C', 'D', 'E', 'F']\n",
    "presentor_block = ['A', 'B']\n",
    "num_presentor = len(presentor_block)\n",
    "print presentor_section(num_presentor, presentor_block)"
   ]
  },
  {
   "cell_type": "code",
   "execution_count": 10,
   "metadata": {
    "collapsed": true
   },
   "outputs": [],
   "source": [
    "track_id = \"1\"\n",
    "presentor_first = \"Richard Brian\"\n",
    "presentor_last = \"Lu\"\n",
    "\n",
    "def presentor_directory (track_id, presentor_first, presentor_last):\n",
    "  first_names = presentor_first.split(' ')\n",
    "  first_initials = \"\"\n",
    "  for name in first_names:\n",
    "    first_initials += name[0]\n",
    "  \n",
    "  return track_id + first_initials + presentor_last\n",
    "  \n",
    "print presentor_directory(track_id, presentor_first, presentor_last)"
   ]
  },
  {
   "cell_type": "code",
   "execution_count": 11,
   "metadata": {
    "collapsed": true
   },
   "outputs": [],
   "source": [
    "def short_bio(bio):\n",
    "  charcount = 0\n",
    "  wordcount = 0\n",
    "  for char in bio:\n",
    "    charcount += 1\n",
    "    if wordcount < 20:\n",
    "      if char == ' ':\n",
    "        wordcount += 1 \n",
    "    else:\n",
    "      return bio[:charcount-2] + \"...\" #return first 20 words of bio\n",
    "  \n",
    "  return bio[:50] + \"...\" #return first 50 chars by default\n"
   ]
  },
  {
   "cell_type": "code",
   "execution_count": 12,
   "metadata": {
    "collapsed": true
   },
   "outputs": [],
   "source": [
    "def presentor_chunk(presentor_img_url, presentor_img_alt_txt, presentor_bio_prev):\n",
    "  return \"\"\"\n",
    "  <div class=\"col-sm-6 col-md-4\">\n",
    "     <div class=\"thumbnail\">\n",
    "         <img src=\"{presentor_img_url}\" alt=\"{presentor_img_alt_txt}\">\n",
    "                  <div class=\"caption\">\n",
    "                    <h3>Thumbnail label</h3>\n",
    "                    <p>{presentor_bio_prev}</p>\n",
    "                    <p><a href=\"#\" class=\"btn btn-primary\" role=\"button\">Read Full Bio</a></p>\n",
    "                  </div>\n",
    "      </div>\n",
    "   </div>\"\"\".format(presentor_img_url=presentor_img_url, presentor_img_alt_txt=presentor_img_alt_txt, presentor_bio_prev=presentor_bio_prev)"
   ]
  },
  {
   "cell_type": "code",
   "execution_count": 13,
   "metadata": {
    "collapsed": true
   },
   "outputs": [],
   "source": [
    "def wks_info (wks_title, wks_descr, presentor_section):\n",
    "  return = \"\"\"\n",
    "  <div class=\"container\">\n",
    "        <h2>{wks_title}</h2>\n",
    "        <br>\n",
    "        <h4>Description</h4>\n",
    "        <p>{wks_descr}</p>\n",
    "        <br>\n",
    "        <h4>Presenters</h4>\n",
    "        {presentor_section}\n",
    "  </div> <!-- /container -->\n",
    "      \"\"\".format(wks_title=wks_title, wks_descr=wks_descr, presentor_section= presentor_section)"
   ]
  },
  {
   "cell_type": "code",
   "execution_count": 14,
   "metadata": {
    "collapsed": true
   },
   "outputs": [],
   "source": [
    "def create_wks_page(list_of_workshops, year):\n",
    "  # Loop through all lines in the file\n",
    "  year = year\n",
    "  for x in range(length_of_list):\n",
    "    background_img = list_of_workshops['background_img'][x]\n",
    "    track_title = list_of_workshops['track_title'][x]\n",
    "    wks_title = list_of_workshops['wks_title'][x]\n",
    "    wks_descr = list_of_workshops['wks_descr'][x]\n",
    "    presentor_img_url = list_of_workshops['presentor_img_url'][x]\n",
    "    presentor_img_alt_txt = list_of_workshops['presentor_img_alt_txt'][x]\n",
    "    presentor_bio_prev = list_of_workshops['presentor_bio_prev'][x]\n",
    "    presentor_section = presentor_section()\n",
    "    \n",
    "    header = \"\"\"\n",
    "<head>\n",
    "    <meta charset=\"utf-8\">\n",
    "    <meta http-equiv=\"X-UA-Compatible\" content=\"IE=edge\">\n",
    "    <meta name=\"viewport\" content=\"width=device-width, initial-scale=1\">\n",
    "    <!-- The above 3 meta tags *must* come first in the head; any other head content must come *after* these tags -->\n",
    "    <meta name=\"description\" content=\"The Official Website of the New York City Asian American Student Conference\">\n",
    "    <meta name=\"author\" content=\"Amelia Chu\">\n",
    "    <link rel=\"icon\" href=\"/assets/favicon.ico\">\n",
    "\n",
    "    <title>NYCAASC | {year} Workshops | {title}</title>\n",
    "\n",
    "    <!-- Bootstrap core CSS -->\n",
    "    <link href=\"/assets/css/bootstrap.min.css\" rel=\"stylesheet\">\n",
    "\n",
    "    <!-- IE10 viewport hack for Surface/desktop Windows 8 bug -->\n",
    "    <link href=\"/assets/css/ie10-viewport-bug-workaround.css\" rel=\"stylesheet\">\n",
    "\n",
    "    <!-- Custom styles for this template -->\n",
    "    <link href=\"/assets/css/navbar-fixed-top.css\" rel=\"stylesheet\">\n",
    "    <!-- Custom styles for this template -->\n",
    "    <link href=\"/assets/css/nycaasc-custom.css\" rel=\"stylesheet\">\n",
    "\n",
    "    <!-- Just for debugging purposes. Don't actually copy these 2 lines! -->\n",
    "    <!--[if lt IE 9]><script src=\"..//assets/js/ie8-responsive-file-warning.js\"></script><![endif]-->\n",
    "    <script src=\"/assets/js/ie-emulation-modes-warning.js\"></script>\n",
    "\n",
    "    <!-- HTML5 shim and Respond.js for IE8 support of HTML5 elements and media queries -->\n",
    "    <!--[if lt IE 9]>\n",
    "      <script src=\"https://oss.maxcdn.com/html5shiv/3.7.2/html5shiv.min.js\"></script>\n",
    "      <script src=\"https://oss.maxcdn.com/respond/1.4.2/respond.min.js\"></script>\n",
    "    <![endif]-->\n",
    "  </head>\n",
    "\"\"\".format(year=year, title=title)\n",
    "    \n",
    "    navigator = \"\"\"\n",
    "    <!-- Fixed navbar -->\n",
    "    <nav class=\"navbar navbar-default navbar-fixed-top\">\n",
    "      <div class=\"container\">\n",
    "        <div class=\"navbar-header\">\n",
    "          <button type=\"button\" class=\"navbar-toggle collapsed\" data-toggle=\"collapse\" data-target=\"#navbar\" aria-expanded=\"false\" aria-controls=\"navbar\">\n",
    "            <span class=\"sr-only\">Toggle navigation</span>\n",
    "            <span class=\"icon-bar\"></span>\n",
    "            <span class=\"icon-bar\"></span>\n",
    "            <span class=\"icon-bar\"></span>\n",
    "          </button>\n",
    "          <a class=\"navbar-brand\" href=\"/index.html\">NYC<font color = \"#cf3537\">AA</font>SC</a>\n",
    "        </div>\n",
    "        <div id=\"navbar\" class=\"navbar-collapse collapse\">\n",
    "          <ul class=\"nav navbar-nav\">\n",
    "            <li class=\"active\"><a href=\"/index.html\">Home</a></li>\n",
    "            <li class=\"dropdown\">\n",
    "              <a href=\"/index.html#\" class=\"dropdown-toggle\" data-toggle=\"dropdown\" role=\"button\" aria-haspopup=\"true\" aria-expanded=\"false\">Conference <span class=\"caret\"></span></a>\n",
    "              <ul class=\"dropdown-menu\">\n",
    "                <li><a href=\"/theme.html\">Theme</a></li>\n",
    "                <li><a href=\"/index.html#featuredperformances\">Featured Performances + Keynote</a></li>\n",
    "                <li><a href=\"/index.html#schedule\">Schedule</a></li>\n",
    "                <li><a href=\"https://www.eventbrite.com/e/10th-annual-nycaasc-registration-22417219507\">Registration</a></li>\n",
    "                <li role=\"separator\" class=\"divider\"></li>\n",
    "                <li class=\"dropdown-header\">Support the Conference</li>\n",
    "                <li><a href=\"/partners.html\">Community Partnerships</a></li>\n",
    "                <li><a href=\"/sponsorship.html\">Sponsorship Opportunities</a></li>\n",
    "              </ul>\n",
    "            </li>\n",
    "            <li><a href=\"/events.html\">Satellite Events</a></li>\n",
    "            <li class=\"dropdown\">\n",
    "              <a href=\"/index.html#\" class=\"dropdown-toggle\" data-toggle=\"dropdown\" role=\"button\" aria-haspopup=\"true\" aria-expanded=\"false\">About Us <span class=\"caret\"></span></a>\n",
    "              <ul class=\"dropdown-menu\">\n",
    "                <li><a href=\"/mission.html\">Mission + History</a></li>\n",
    "                <li><a href=\"/currentboard.html\">Current Board</a></li>\n",
    "                <li role=\"separator\" class=\"divider\"></li>\n",
    "                <li class=\"dropdown-header\">Join Us!</li>\n",
    "                <li><a href=\"/apply.html\">Apply for Membership</a></li>\n",
    "                <li><a href=\"/hslprogram.html\">High School Liason Program</a></li>\n",
    "              </ul>\n",
    "            </li>\n",
    "          </ul>\n",
    "          <ul class=\"nav navbar-nav navbar-right\">\n",
    "            <li class=\"social-menu--link\"><a href=\"https://www.facebook.com/nycaascpage\"><img src=\"/assets/img/fb.svg\" height=\"16\" width=\"16\" alt=\"Facebook\"></a></li>\n",
    "            <li class=\"social-menu--link\"><a href=\"https://twitter.com/nycaasc\"><img src=\"/assets/img/tw.svg\" height=\"16\" width=\"16\" alt=\"Twitter\"></a></li>\n",
    "            <li class=\"social-menu--link\"><a href=\"https://www.instagram.com/nycaasc\"><img src=\"/assets/img/in.svg\" height=\"16\" width=\"16\" alt=\"Instagram\"></a></li>\n",
    "          </ul>\n",
    "        </div><!--/.nav-collapse -->\n",
    "      </div>\n",
    "    </nav> <!--/navigation-->\n",
    "    \"\"\"\n",
    "    \n",
    "    wks_page = header + navigator + jumbo_wks(background_img, track_title) + wks_info(wks_title, wks_descr, presentor_section) + wks_presentors(presentor_img_url, presentor_img_alt_txt, presentor_bio_prev)\n",
    "  \n",
    "  #path_to_repo is the path where you are storing the NYCAASC website locally\n",
    "    directory =\"{path_to_repo}/wks/{year}/{track_id}/{wks_num}.html\".format(\"path_to_repo=path_to_repo, year=year, track_id=track_id wks_num=wks_num\")\n",
    "    f = open(directory, 'w')\n",
    "    f.write(wks_page)\n",
    "    f.close()"
   ]
  },
  {
   "cell_type": "code",
   "execution_count": 15,
   "metadata": {
    "collapsed": true
   },
   "outputs": [],
   "source": []
  }
 ],
 "metadata": {
  "kernelspec": {
   "display_name": "Python 3",
   "language": "python",
   "name": "python3"
  },
  "language_info": {
   "codemirror_mode": {
    "name": "ipython",
    "version": 3
   },
   "file_extension": ".py",
   "mimetype": "text/x-python",
   "name": "python",
   "nbconvert_exporter": "python",
   "pygments_lexer": "ipython3",
   "version": "3.6.0"
  },
  "name": "wks_page",
  "notebookId": 831759692751644
 },
 "nbformat": 4,
 "nbformat_minor": 0
}
