{
 "cells": [
  {
   "cell_type": "code",
   "execution_count": 1,
   "metadata": {
    "collapsed": true
   },
   "outputs": [],
   "source": [
    "list_of_workshops = pd.read_csv(\"2017/workshops-2017.csv\")"
   ]
  },
  {
   "cell_type": "code",
   "execution_count": 7,
   "metadata": {
    "collapsed": true
   },
   "outputs": [],
   "source": [
    "#Creates individual section for workshop speaker\n",
    "def speaker_block(speaker_name, speaker_bio, bio_id):\n",
    "    return \"\"\"\n",
    "          <div class=\"row\">\n",
    "          \n",
    "              <div class=\"col-md-4>\n",
    "                <img class=\"img-responsive\" src=\"assets/img/wks/{bio_id}.jpg\" >\n",
    "                  \n",
    "              </div>\n",
    "              \n",
    "              <div class=\"col-md-8\">\n",
    "                <h3>{speaker_name}</h3>\n",
    "                <p>{speaker_bio}</p>\n",
    "                <p></p><!--Social media/website links-->\n",
    "                <p>Other workshops: <a href=\"\">Workshop 1</a>, <a href=\"\">Workshop 2</a></p><!--If applicable-->\n",
    "              </div>\n",
    "              \n",
    "          </div>\n",
    "          \n",
    "\"\"\".format(speaker_name=speaker_name, speaker_bio=speaker_bio, bio_id = bio_id)"
   ]
  },
  {
   "cell_type": "code",
   "execution_count": null,
   "metadata": {
    "collapsed": true
   },
   "outputs": [],
   "source": [
    "#Compile all of the speakers of one workshop\n",
    "def get_all_speakers(list_of_workshops, num_speakers):\n",
    "    #Create a list of all of the speaker names\n",
    "    list_of_names = list_of_workshops.iloc[3,5,7]\n",
    "    #Create a list of all of the speaker bios\n",
    "    list_of_bios = list_of_workshops.iloc[4,6,8]\n",
    "    list_of_ids = list_of_workshops #create id creator function to add to dataframe\n",
    "    total_speaker_blocks = \"\"\"\"\"\"\n",
    "    #Create a speaker block string for each speaker\n",
    "    for x in range(num_speakers):\n",
    "        total_speaker_blocks += speaker_block(list_of_names[x], list_of_bios[x], list_of_ids[x])\n",
    "    return total_speaker_blocks"
   ]
  },
  {
   "cell_type": "code",
   "execution_count": 8,
   "metadata": {
    "collapsed": true
   },
   "outputs": [],
   "source": [
    "def presentor_section(num_presentor, presentor_block):\n",
    "    presentor_chunk = \"\"\"<div class=\"row\">\"\"\"\n",
    "    for presentor in range(num_presentor):\n",
    "    if ((presentor % 3) == 0) & presentor !=0:\n",
    "        presentor_chunk += \"\"\"</div> \\n <div class=\"row\">\"\"\"\n",
    "      \n",
    "        presentor_chunk += str(presentor_block[presentor]) #future present_block(function)\n",
    "      \n",
    "    else: \n",
    "        presentor_chunk += presentor_block[presentor]\n",
    "        presentor_chunk += \"\"\"</div>\"\"\"\n",
    "    return presentor_chunk\n",
    "#add end div\n",
    "#def for taking first lower(initial), and lower(lastname) to construct different directores\n",
    "#def for creating short bio"
   ]
  },
  {
   "cell_type": "code",
   "execution_count": 9,
   "metadata": {
    "collapsed": true
   },
   "outputs": [],
   "source": [
    "#presentor_block = ['A', 'B', 'C', 'D', 'E']\n",
    "#presentor_block = ['A', 'B', 'C', 'D', 'E', 'F']\n",
    "presentor_block = ['A', 'B']\n",
    "num_presentor = len(presentor_block)\n",
    "print presentor_section(num_presentor, presentor_block)"
   ]
  },
  {
   "cell_type": "code",
   "execution_count": 2,
   "metadata": {
    "collapsed": false
   },
   "outputs": [
    {
     "name": "stdout",
     "output_type": "stream",
     "text": [
      "1RBLu\n"
     ]
    }
   ],
   "source": [
    "#Creates speaker directory ID from track id and speaker name (probably not necessary)\n",
    "def speaker_directory (track_id, speaker_first, speaker_last):\n",
    "    first_names = speaker_first.split(' ')\n",
    "    first_initials = \"\"\n",
    "    for name in first_names:\n",
    "        first_initials += name[0]\n",
    "  \n",
    "    return track_id + first_initials + speaker_last"
   ]
  },
  {
   "cell_type": "code",
   "execution_count": 11,
   "metadata": {
    "collapsed": true
   },
   "outputs": [],
   "source": [
    "#Creates shortened bio (probably not necessary)\n",
    "def short_bio(bio):\n",
    "    charcount = 0\n",
    "    wordcount = 0\n",
    "      for char in bio:\n",
    "        charcount += 1\n",
    "        if wordcount < 20:\n",
    "            if char == ' ':\n",
    "                wordcount += 1 \n",
    "        else:\n",
    "              return bio[:charcount-2] + \"...\" #return first 20 words of bio\n",
    "  \n",
    "    return bio[:50] + \"...\" #return first 50 chars by default\n"
   ]
  },
  {
   "cell_type": "code",
   "execution_count": 12,
   "metadata": {
    "collapsed": true
   },
   "outputs": [],
   "source": [
    "def presentor_chunk(presentor_img_url, presentor_img_alt_txt, presentor_bio_prev):\n",
    "    return \"\"\"\n",
    "  <div class=\"col-sm-6 col-md-4\">\n",
    "     <div class=\"thumbnail\">\n",
    "         <img src=\"{presentor_img_url}\" alt=\"{presentor_img_alt_txt}\">\n",
    "                  <div class=\"caption\">\n",
    "                    <h3>Thumbnail label</h3>\n",
    "                    <p>{presentor_bio_prev}</p>\n",
    "                    <p><a href=\"#\" class=\"btn btn-primary\" role=\"button\">Read Full Bio</a></p>\n",
    "                  </div>\n",
    "      </div>\n",
    "   </div>\"\"\".format(presentor_img_url=presentor_img_url, presentor_img_alt_txt=presentor_img_alt_txt, presentor_bio_prev=presentor_bio_prev)"
   ]
  },
  {
   "cell_type": "code",
   "execution_count": 13,
   "metadata": {
    "collapsed": true
   },
   "outputs": [],
   "source": [
    "#Creates formatted opening section with workshop track, title, description\n",
    "def wks_info (track, wks_title, wks_descr):\n",
    "    if track == 1:\n",
    "        track-string = \"Track 1: Community\"\n",
    "    elif track == 2:\n",
    "        track-string = \"Track 2: National\"\n",
    "    elif track == 3:\n",
    "        track-string = \"Track 3: Global\"\n",
    "    \n",
    "    return = \"\"\"\n",
    "    <h2>\"\"\" + track-string + \"\"\"Track 1: Community</h2>\n",
    "\n",
    "    <h2>{wks_title}</h2>\n",
    "\n",
    "    <p>{wks_descr}</p>\n",
    "      \"\"\".format(track=track, wks_title=wks_title, wks_descr=wks_descr)"
   ]
  },
  {
   "cell_type": "code",
   "execution_count": 14,
   "metadata": {
    "collapsed": true
   },
   "outputs": [],
   "source": [
    "def write_wks_page(list_of_workshops, year):\n",
    "    header = \"\"\"\n",
    "<!DOCTYPE html>\n",
    "<html lang=\"en\">\n",
    "\n",
    "<head>\n",
    "    <meta charset=\"utf-8\">\n",
    "    <meta http-equiv=\"X-UA-Compatible\" content=\"IE=edge\">\n",
    "    <meta name=\"viewport\" content=\"width=device-width, initial-scale=1\">\n",
    "    <!-- The above 3 meta tags *must* come first in the head; any other head content must come *after* these tags -->\n",
    "    <meta name=\"description\" content=\".\">\n",
    "    <meta name=\"author\" content=\"Richard Lu\">\n",
    "    <link rel=\"icon\" href=\"assets/favicon.ico\">\n",
    "\n",
    "    <title>NYCAASC | {year} Workshops </title>\n",
    "\n",
    "    <!-- Bootstrap core CSS -->\n",
    "    <link href=\"assets/css/bootstrap.min.css\" rel=\"stylesheet\">\n",
    "\n",
    "    <!-- IE10 viewport hack for Surface/desktop Windows 8 bug -->\n",
    "    <link href=\"assets/css/ie10-viewport-bug-workaround.css\" rel=\"stylesheet\">\n",
    "\n",
    "    <!-- Custom styles for this template -->\n",
    "    <link href=\"assets/css/navbar-fixed-top.css\" rel=\"stylesheet\">\n",
    "    <!-- Custom styles for this template -->\n",
    "    <link href=\"assets/css/nycaasc-custom.css\" rel=\"stylesheet\">\n",
    "    <!-- Streetvertising Font CSS -->\n",
    "    <link href=\"assets/css/font-streetvertising.css\" rel=\"stylesheet\">\n",
    "\n",
    "    <!-- Just for debugging purposes. Don't actually copy these 2 lines! -->\n",
    "    <!--[if lt IE 9]><script src=\"..//assets/js/ie8-responsive-file-warning.js\"></script><![endif]-->\n",
    "    <script src=\"assets/js/ie-emulation-modes-warning.js\"></script>\n",
    "\n",
    "    <!-- HTML5 shim and Respond.js for IE8 support of HTML5 elements and media queries -->\n",
    "    <!--[if lt IE 9]>\n",
    "    <script src=\"https://oss.maxcdn.com/html5shiv/3.7.2/html5shiv.min.js\"></script>\n",
    "    <script src=\"https://oss.maxcdn.com/respond/1.4.2/respond.min.js\"></script>\n",
    "  <![endif]-->\n",
    "\n",
    "</head>\n",
    "\"\"\".format(year=year, title=title)\n",
    "    \n",
    "    navigator = \"\"\"\n",
    "    \n",
    "    <header id=\"header\"></header>\n",
    "    \n",
    "    \"\"\"\n",
    "    \n",
    "    # Loop through all lines in the file\n",
    "    year = year\n",
    "    for row in list_of_workshops:\n",
    "        background_img = list_of_workshops['background_img'][x]\n",
    "        track_title = list_of_workshops['track_title'][x]\n",
    "        wks_title = list_of_workshops['Title of workshop']\n",
    "        num_speakers = list_of_workshops['Number of speakers/facilitators'][x]\n",
    "        presentor_img_url = list_of_workshops['presentor_img_url'][x]\n",
    "        presentor_img_alt_txt = list_of_workshops['presentor_img_alt_txt'][x]\n",
    "        presentor_bio_prev = list_of_workshops['presentor_bio_prev'][x]\n",
    "        presentor_section = presentor_section()\n",
    "    \n",
    "    wks_page = header + navigator + wks_info(track, wks_title, wks_descr) + wks_presentors(presentor_img_url, presentor_img_alt_txt, presentor_bio_prev)\n",
    "  \n",
    "  #path_to_repo is the path where you are storing the NYCAASC website locally\n",
    "    directory =\"{path_to_repo}/wks/{year}/{track_id}/{wks_num}.html\".format(\"path_to_repo=path_to_repo, year=year, track_id=track_id wks_num=wks_num\")\n",
    "    f = open(directory, 'w')\n",
    "    f.write(wks_page)\n",
    "    f.close()"
   ]
  },
  {
   "cell_type": "code",
   "execution_count": null,
   "metadata": {
    "collapsed": true
   },
   "outputs": [],
   "source": []
  }
 ],
 "metadata": {
  "kernelspec": {
   "display_name": "Python 3",
   "language": "python",
   "name": "python3"
  },
  "language_info": {
   "codemirror_mode": {
    "name": "ipython",
    "version": 3
   },
   "file_extension": ".py",
   "mimetype": "text/x-python",
   "name": "python",
   "nbconvert_exporter": "python",
   "pygments_lexer": "ipython3",
   "version": "3.6.0"
  },
  "name": "wks_page",
  "notebookId": 831759692751644
 },
 "nbformat": 4,
 "nbformat_minor": 0
}
